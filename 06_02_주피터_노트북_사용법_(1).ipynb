{
  "nbformat": 4,
  "nbformat_minor": 0,
  "metadata": {
    "kernelspec": {
      "display_name": "Python 3",
      "language": "python",
      "name": "python3"
    },
    "language_info": {
      "codemirror_mode": {
        "name": "ipython",
        "version": 3
      },
      "file_extension": ".py",
      "mimetype": "text/x-python",
      "name": "python",
      "nbconvert_exporter": "python",
      "pygments_lexer": "ipython3",
      "version": "3.8.5"
    },
    "toc": {
      "base_numbering": 1,
      "nav_menu": {},
      "number_sections": true,
      "sideBar": true,
      "skip_h1_title": true,
      "title_cell": "Table of Contents",
      "title_sidebar": "Contents",
      "toc_cell": false,
      "toc_position": {},
      "toc_section_display": true,
      "toc_window_display": false
    },
    "varInspector": {
      "cols": {
        "lenName": 16,
        "lenType": 16,
        "lenVar": 40
      },
      "kernels_config": {
        "python": {
          "delete_cmd_postfix": "",
          "delete_cmd_prefix": "del ",
          "library": "var_list.py",
          "varRefreshCmd": "print(var_dic_list())"
        },
        "r": {
          "delete_cmd_postfix": ") ",
          "delete_cmd_prefix": "rm(",
          "library": "var_list.r",
          "varRefreshCmd": "cat(var_dic_list()) "
        }
      },
      "types_to_exclude": [
        "module",
        "function",
        "builtin_function_or_method",
        "instance",
        "_Feature"
      ],
      "window_display": false
    },
    "colab": {
      "name": "06-02. 주피터 노트북 사용법 (1).ipynb",
      "provenance": [],
      "include_colab_link": true
    }
  },
  "cells": [
    {
      "cell_type": "markdown",
      "metadata": {
        "id": "view-in-github",
        "colab_type": "text"
      },
      "source": [
        "<a href=\"https://colab.research.google.com/github/ziarrow/AI_and_DataScience/blob/main/06_02_%EC%A3%BC%ED%94%BC%ED%84%B0_%EB%85%B8%ED%8A%B8%EB%B6%81_%EC%82%AC%EC%9A%A9%EB%B2%95_(1).ipynb\" target=\"_parent\"><img src=\"https://colab.research.google.com/assets/colab-badge.svg\" alt=\"Open In Colab\"/></a>"
      ]
    },
    {
      "cell_type": "markdown",
      "metadata": {
        "id": "14mr3Hl2LJZZ"
      },
      "source": [
        "# 주피터 노트북 사용법(요약)"
      ]
    },
    {
      "cell_type": "markdown",
      "metadata": {
        "id": "9V7zkZQILJZv"
      },
      "source": [
        "## 1. 파일 이름 부여하기"
      ]
    },
    {
      "cell_type": "markdown",
      "metadata": {
        "id": "7ZH0Cg6MLJZy"
      },
      "source": [
        "위에 untitled를 클릭하면, 파일이름을 부여할 수 있고 Desktop/ 화면에서 확인할 수 있다."
      ]
    },
    {
      "cell_type": "markdown",
      "metadata": {
        "id": "O7fDG1l9LJZz"
      },
      "source": [
        "## 2. 셀 입력모드 & 명령모드"
      ]
    },
    {
      "cell_type": "code",
      "metadata": {
        "id": "GllOCbctLJZ1",
        "outputId": "4e857e97-8171-4d6b-e15d-623f6394f34a"
      },
      "source": [
        "print(\"Hello, python in Jupyter notebook.\")"
      ],
      "execution_count": null,
      "outputs": [
        {
          "output_type": "stream",
          "text": [
            "Hello, python in Jupyter notebook.\n"
          ],
          "name": "stdout"
        }
      ]
    },
    {
      "cell_type": "code",
      "metadata": {
        "scrolled": true,
        "id": "Ov6DokO5LJZ6"
      },
      "source": [
        "a = 30\n",
        "print(a)"
      ],
      "execution_count": null,
      "outputs": []
    },
    {
      "cell_type": "markdown",
      "metadata": {
        "id": "7rag0TYtLJZ7"
      },
      "source": [
        "* 셀 외곽라인색상이 **<font color='green'>녹색</font>**이면 **입력모드**, **<font color='blue'>파란색</font>**이면 **명령모드**이다.\n",
        "* 입력모드에서 'ESC'를 누르면, 명령모드가 된다.\n",
        "* 명령모드에서 셀을 클릭하면, 다시 입력모드가 된다."
      ]
    },
    {
      "cell_type": "markdown",
      "metadata": {
        "id": "i01aAvDvLJZ8"
      },
      "source": [
        "## 3. 셀 추가 및 삭제"
      ]
    },
    {
      "cell_type": "markdown",
      "metadata": {
        "id": "WtSlEA7vLJZ9"
      },
      "source": [
        "명령모드에서 셀 추가 위 'a', 아래 'b', 삭제는 'dd'. 기타 자세한 명령어는 'h'(도움말)를 통해 확인 가능"
      ]
    },
    {
      "cell_type": "markdown",
      "metadata": {
        "id": "12McmA1qLJZ-"
      },
      "source": [
        "## 4. 입력모드에서의 셀 실행"
      ]
    },
    {
      "cell_type": "markdown",
      "metadata": {
        "id": "p7Tlu6TBLJZ_"
      },
      "source": [
        "* ctrl + Enter : 셀 실행\n",
        "* shift + Enter : 셀 실행 + 밑으로 커서 이동(마지막 셀인 경우는 밑에 셀 자동 생성 후 이동)\n",
        "* alt + Enter : 셀 실행 + 밑에 셀 생성 + 밑으로 커서 이동"
      ]
    },
    {
      "cell_type": "markdown",
      "metadata": {
        "id": "jXoKB2AALJaA"
      },
      "source": [
        "## 5. Heading의 수준에 따른 타이틀 만들기\n",
        "* 명령모드에서 '1','2','3','4','5'를 누르면 Heading의 수준에 따른 글자 크기가 정해진다."
      ]
    },
    {
      "cell_type": "markdown",
      "metadata": {
        "id": "Y7r00uZPLJaB"
      },
      "source": [
        "# Hello, python!\n",
        "## Hello, python!\n",
        "### Hello, python!\n",
        "#### Hello, python!\n",
        "##### Hello, python!"
      ]
    },
    {
      "cell_type": "markdown",
      "metadata": {
        "id": "Aei0F1yxLJaC"
      },
      "source": [
        "## 6. Markdown 문서 내 글자 모양 변경하기\n",
        "* 명령모드에서 'm'을 누르면 markdown 편집을 할 수 있다."
      ]
    },
    {
      "cell_type": "markdown",
      "metadata": {
        "id": "dyHd_0hDLJaD"
      },
      "source": [
        "단순 Markdown 모드 : Python is really easy and simple to implement."
      ]
    },
    {
      "cell_type": "markdown",
      "metadata": {
        "id": "6jSh1L5cLJaD"
      },
      "source": [
        "강조(Bold) 문구 추가 : Python is **really**| easy and simple to implement."
      ]
    },
    {
      "cell_type": "markdown",
      "metadata": {
        "id": "QXxjup8vLJaE"
      },
      "source": [
        "이탤릭(Italic) 문구 추가 : Python is *really* easy and simple to implement."
      ]
    },
    {
      "cell_type": "markdown",
      "metadata": {
        "id": "RaM7OSZFLJaF"
      },
      "source": [
        "강조(Bold)&이탤릭(Italic) 문구 추가 : Python is ***really*** easy and simple to implement."
      ]
    },
    {
      "cell_type": "markdown",
      "metadata": {
        "id": "B7TG9mFXLJaG"
      },
      "source": [
        "## 7. Markdown 문서 내 들여쓰기"
      ]
    },
    {
      "cell_type": "markdown",
      "metadata": {
        "id": "fj6QzzuvLJaH"
      },
      "source": [
        ">대한민국\n",
        ">>국방부\n",
        ">>> 육군, 해군, 공군, 해병대"
      ]
    },
    {
      "cell_type": "markdown",
      "metadata": {
        "id": "WDTNXluqLJaI"
      },
      "source": [
        "## 8. Markdown 문서 내 리스트 작성"
      ]
    },
    {
      "cell_type": "markdown",
      "metadata": {
        "id": "H4Z1luc0LJaJ"
      },
      "source": [
        "**동물의 분류**\n",
        "- 척추 동물\n",
        "  - 정온 동물\n",
        "    - 조류\n",
        "    - 포유류\n",
        "      - 사람\n",
        "      - 개\n",
        "      - 고양이\n",
        "  - 변온 동물\n",
        "- 무척추 동물"
      ]
    },
    {
      "cell_type": "markdown",
      "metadata": {
        "id": "0Sr98Va7LJaJ"
      },
      "source": [
        "## 9. Markdown 문서 내 수학식 표현하기"
      ]
    },
    {
      "cell_type": "markdown",
      "metadata": {
        "id": "QilXxgEZLJaK"
      },
      "source": [
        "y = 2x + 3  \n",
        "$y = 2x + 3$"
      ]
    },
    {
      "cell_type": "markdown",
      "metadata": {
        "id": "8iiMuDAILJaL"
      },
      "source": [
        "## 10. Markdown 문서 내 파이썬 코드 표현하기"
      ]
    },
    {
      "cell_type": "markdown",
      "metadata": {
        "id": "9OsoycqELJaM"
      },
      "source": [
        "```python\n",
        "a = 10\n",
        "print(a)\n",
        "```"
      ]
    },
    {
      "cell_type": "markdown",
      "metadata": {
        "id": "6tIKPs-GLJaM"
      },
      "source": [
        "## 11. Markdown 문서 내 윕사이트 링크 표현하기"
      ]
    },
    {
      "cell_type": "markdown",
      "metadata": {
        "id": "TWjy9r7-LJaN"
      },
      "source": [
        "[파이썬 홈페이지](https://www.python.org/)"
      ]
    },
    {
      "cell_type": "markdown",
      "metadata": {
        "id": "Mjzg6xGCLJaO"
      },
      "source": [
        "## 12. Markdown 문서 내 그림 넣기"
      ]
    },
    {
      "cell_type": "markdown",
      "metadata": {
        "id": "Qab8kbnBLJaO"
      },
      "source": [
        "* 디렉토리에 있는 그림파일을 넣기 : <img src=\"./pictures/jupyter.png\" width='200' height = '200'>"
      ]
    },
    {
      "cell_type": "markdown",
      "metadata": {
        "id": "WZxnotUELJaP"
      },
      "source": [
        "* 웹사이트에 있는 그림파일을 넣기 : ![유니티 이미지](http://cfile24.uf.tistory.com/image/2444873B57E257821FA2AE)"
      ]
    }
  ]
}